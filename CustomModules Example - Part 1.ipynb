{
 "cells": [
  {
   "cell_type": "markdown",
   "metadata": {},
   "source": [
    "# Using Methods from CustomModules - Part 1\n",
    "### Reading SQL from a .txt or .sql file\n",
    "\n",
    "When coding in Python, we may end up writing long blocks of code that we want to resuse in other Python projects. To simplify code writing and improve readability, we can store code into what's called a module. A module is any Python code stored into a .py file. Within Jupyter notebook and other Python IDEs, we can import a module as a custom library. In this tutorial, we'll use the ```CustomModules``` module to access methods that read a SQL file and then read into a Pandas dataframe. \n",
    "\n",
    "#### Pre-requisites\n",
    "* Pandas\n",
    "* pymssql\n",
    "\n",
    "The ```CustomModules``` module uses the above libraries, so if you do not already have them installed you can use either of the two methods below in a Python or Conda terminal. \n",
    "\n",
    "```conda install pandas``` or ```pip install pandas``` <br>\n",
    "```conda install pymssql``` or ```pip install pymssql```\n",
    "\n",
    "\n",
    "#### Steps to use ```CustomModules``` library\n",
    "1. Import ```CustomModules``` and ```os``` for our required libraries\n",
    "2. Use the ```get_sql_info()``` method to Create variabels called ```server``` and ```db``` that we'll use in our main call to read SQL. \n",
    "3. We can use the ```os``` library standas for operating system which has many useful functions to access operations in our operating systems. We can use the ```listdir()``` method to list files in our current working directory. \n",
    "4. The ```SQL_file_path()``` from ```CustomModules``` allows us to access a file such as a .txt or .sql file. Once accessed, we can read the contents of the file, in this case SQL script, and then store the syntack into a Python variable called ```sql```. \n",
    "5. The last method  ```read_SQL_from_file()``` takes three main arguments -- namely the ```sql``` variable we defined, as well as the ```server``` & ```db``` variables we unpacked from the ```get_sql_info()``` method. \n",
    "\n"
   ]
  },
  {
   "cell_type": "markdown",
   "metadata": {},
   "source": [
    "#### Import required libraries"
   ]
  },
  {
   "cell_type": "code",
   "execution_count": 1,
   "metadata": {},
   "outputs": [],
   "source": [
    "import CustomModules as cm\n",
    "import os"
   ]
  },
  {
   "cell_type": "markdown",
   "metadata": {},
   "source": [
    "#### List all files in our current working directory"
   ]
  },
  {
   "cell_type": "code",
   "execution_count": 29,
   "metadata": {},
   "outputs": [
    {
     "data": {
      "text/plain": [
       "['.ipynb_checkpoints',\n",
       " 'Customers.txt',\n",
       " 'CustomModules Example - Part 1.ipynb',\n",
       " 'CustomModules.py',\n",
       " 'CustomModules_notebook.ipynb',\n",
       " '__pycache__']"
      ]
     },
     "execution_count": 29,
     "metadata": {},
     "output_type": "execute_result"
    }
   ],
   "source": [
    "# files in my current Directory\n",
    "os.listdir()"
   ]
  },
  {
   "cell_type": "markdown",
   "metadata": {},
   "source": [
    "#### Get server and database info"
   ]
  },
  {
   "cell_type": "code",
   "execution_count": 26,
   "metadata": {},
   "outputs": [
    {
     "name": "stdout",
     "output_type": "stream",
     "text": [
      "ServerName:TestServer\n",
      "Database:dbname\n"
     ]
    }
   ],
   "source": [
    "server, db = cm.get_sql_info()"
   ]
  },
  {
   "cell_type": "markdown",
   "metadata": {},
   "source": [
    "#### Read the SQL file into a variable"
   ]
  },
  {
   "cell_type": "code",
   "execution_count": 28,
   "metadata": {},
   "outputs": [
    {
     "name": "stdout",
     "output_type": "stream",
     "text": [
      "select CustomerID, LastName, FirstName \n",
      "from Customers with (nolock)\n"
     ]
    }
   ],
   "source": [
    "#define file from same working Directory\n",
    "\n",
    "providers = 'Customers.txt'\n",
    "\n",
    "sql = cm.sql_file_path(providers)\n",
    "print(sql)"
   ]
  },
  {
   "cell_type": "markdown",
   "metadata": {},
   "source": [
    "#### Execute SQL file now and store into dataframe"
   ]
  },
  {
   "cell_type": "code",
   "execution_count": 24,
   "metadata": {},
   "outputs": [],
   "source": [
    "df = cm.read_sql_from_file(sql, server,db )"
   ]
  },
  {
   "cell_type": "code",
   "execution_count": null,
   "metadata": {},
   "outputs": [],
   "source": []
  }
 ],
 "metadata": {
  "kernelspec": {
   "display_name": "Python 3",
   "language": "python",
   "name": "python3"
  },
  "language_info": {
   "codemirror_mode": {
    "name": "ipython",
    "version": 3
   },
   "file_extension": ".py",
   "mimetype": "text/x-python",
   "name": "python",
   "nbconvert_exporter": "python",
   "pygments_lexer": "ipython3",
   "version": "3.6.5"
  }
 },
 "nbformat": 4,
 "nbformat_minor": 2
}
