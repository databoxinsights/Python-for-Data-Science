{
 "cells": [
  {
   "cell_type": "code",
   "execution_count": 3,
   "metadata": {},
   "outputs": [],
   "source": [
    "\n",
    "def divisble_by_two(n,i):\n",
    "# n = 10 # i must be greater than or equal to n (lowest possible half to test)\n",
    "# i = 11 # test a value cannot be less than n\n",
    "\n",
    "# test whether a number is divisible by 2\n",
    "    while i >= n: \n",
    "        if i %2 == 0:\n",
    "            print('The number {} is divisible by 2'.format(i))\n",
    "            i = i/2\n",
    "        else: \n",
    "            print('The number {} is not divisible by 2, so we incremnet {} + 1'.format(i,i))\n",
    "            i = i+1"
   ]
  },
  {
   "cell_type": "code",
   "execution_count": 6,
   "metadata": {},
   "outputs": [
    {
     "name": "stdout",
     "output_type": "stream",
     "text": [
      "The number 11 is not divisible by 2, so we incremnet 11 + 1\n",
      "The number 12 is divisible by 2\n"
     ]
    }
   ],
   "source": [
    "divisble_by_two(10,11)"
   ]
  },
  {
   "cell_type": "code",
   "execution_count": 7,
   "metadata": {},
   "outputs": [
    {
     "name": "stdout",
     "output_type": "stream",
     "text": [
      "The number 20 is divisible by 2\n",
      "The number 10.0 is divisible by 2\n"
     ]
    }
   ],
   "source": [
    "divisble_by_two(10,20)"
   ]
  },
  {
   "cell_type": "code",
   "execution_count": 9,
   "metadata": {},
   "outputs": [
    {
     "name": "stdout",
     "output_type": "stream",
     "text": [
      "The number 6000 is divisible by 2\n",
      "The number 3000.0 is divisible by 2\n",
      "The number 1500.0 is divisible by 2\n",
      "The number 750.0 is divisible by 2\n",
      "The number 375.0 is not divisible by 2, so we incremnet 375.0 + 1\n",
      "The number 376.0 is divisible by 2\n",
      "The number 188.0 is divisible by 2\n",
      "The number 94.0 is divisible by 2\n",
      "The number 47.0 is not divisible by 2, so we incremnet 47.0 + 1\n",
      "The number 48.0 is divisible by 2\n",
      "The number 24.0 is divisible by 2\n",
      "The number 12.0 is divisible by 2\n"
     ]
    }
   ],
   "source": [
    "divisble_by_two(10,6000)"
   ]
  },
  {
   "cell_type": "code",
   "execution_count": null,
   "metadata": {},
   "outputs": [],
   "source": []
  }
 ],
 "metadata": {
  "kernelspec": {
   "display_name": "Python 3",
   "language": "python",
   "name": "python3"
  },
  "language_info": {
   "codemirror_mode": {
    "name": "ipython",
    "version": 3
   },
   "file_extension": ".py",
   "mimetype": "text/x-python",
   "name": "python",
   "nbconvert_exporter": "python",
   "pygments_lexer": "ipython3",
   "version": "3.6.5"
  }
 },
 "nbformat": 4,
 "nbformat_minor": 2
}
